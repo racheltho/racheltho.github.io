{
 "metadata": {
  "name": "",
  "signature": "sha256:d182cae2f59554d78e44b6f7c87c76202af1d1d96bc7e34fe05f745e8a887435"
 },
 "nbformat": 3,
 "nbformat_minor": 0,
 "worksheets": [
  {
   "cells": [
    {
     "cell_type": "markdown",
     "metadata": {},
     "source": [
      "# Getting started\n",
      "### if you are reading this, then I have succeeded\n",
      "\n",
      "The first step to starting a blog was choosing a platform.  I was pretty sure I wanted to use ipython notebook, having found some recent inspiration from Brian Granger's [Strata Talk](https://github.com/ellisonbg/talk-strata-sc2014) and Cam Davidson-Pilon's [Bayesian Methods for Hackers book](http://nbviewer.ipython.org/github/CamDavidsonPilon/Probabilistic-Programming-and-Bayesian-Methods-for-Hackers/blob/master/Prologue/Prologue.ipynb) (neither of these are blogs, but they are both awesome).\n",
      "\n",
      "But ipython notebook is not a platform.  Google revealed a few options:\n",
      "\n",
      "- Use nbconvert to convert ipynb to html and then put on blogger\n",
      "- [Nikola](http://getnikola.com/) static site generator and put on [GitHub Pages](http://pages.github.com/)\n",
      "\n",
      "I tried them both: http://datarachel.blogspot.com/ and http://racheltho.github.io/  (although you can probably guess which won if you are on this site).\n",
      "\n",
      "###On getting set up\n",
      "\n",
      "For blogger: I had been using the dev version of ipython, and nbconvert doesn't seem to work properly there.  Once I realized the problem, I installed version 1.0 and everything was fine.  I copied and pasted the html manually into the input box provided by blogger, which seemed a bit clunky (couldn't find a direct upload, but maybe it's out there??)\n",
      "\n",
      "For Nikola/gh-pages: Nikola was pretty simple to set up, but I was initially confused about what went in my racheltho.github.io repo.  I eventually discovered that I wanted to push my output/ folder (created by Nikola) and this seemed to work well.\n",
      "\n",
      "###My thoughts\n",
      "\n",
      "The Nikola pages definitely have a much cleaner look and better layout.  To be fair, I didn't try different themes for either, but I am pleased with how much Nikola provides automatically.  I also like the interface with GitHub Pages.  Since I already use git regularly and like the version control it provides, this was another bonus.  The Nikola handbook offers a compelling argument for the [benefits of static pages](http://getnikola.com/handbook.html#why-static).  All in all, the choice was straightforward.\n"
     ]
    }
   ],
   "metadata": {}
  }
 ]
}