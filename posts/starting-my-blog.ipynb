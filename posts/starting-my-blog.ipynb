{
 "metadata": {
  "name": "",
  "signature": "sha256:d182cae2f59554d78e44b6f7c87c76202af1d1d96bc7e34fe05f745e8a887435"
 },
 "nbformat": 3,
 "nbformat_minor": 0,
 "worksheets": [
  {
   "cells": [
    {
     "cell_type": "markdown",
     "metadata": {},
     "source": [
      "# Starting a blog\n",
      "### if you are reading this, then I have succeeded\n",
      "\n",
      "The first step to starting a blog was choosing a platform.  I was pretty sure I wanted to use ipython notebook, having found some recent inspiration from Brian Granger's [Strata Talk](https://github.com/ellisonbg/talk-strata-sc2014) and Cam Davidson-Pilon's [Bayesian Methods for Hackers book](http://nbviewer.ipython.org/github/CamDavidsonPilon/Probabilistic-Programming-and-Bayesian-Methods-for-Hackers/blob/master/Prologue/Prologue.ipynb) (neither of these are blogs, but they are both awesome).\n",
      "\n",
      "But ipython notebook is not a platform.  Google revealed a few options:\n",
      "Use nbconvert to convert ipynb to html and then put on blogger\n",
      "[Nikola](http://getnikola.com/) static site generator"
     ]
    },
    {
     "cell_type": "code",
     "collapsed": false,
     "input": [],
     "language": "python",
     "metadata": {},
     "outputs": []
    }
   ],
   "metadata": {}
  }
 ]
}