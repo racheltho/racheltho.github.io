{
 "metadata": {
  "name": ""
 },
 "nbformat": 3,
 "nbformat_minor": 0,
 "worksheets": [
  {
   "cells": [
    {
     "cell_type": "markdown",
     "metadata": {},
     "source": [
      "# true confessions\n",
      "### of degenerate debugging\n",
      "\n",
      "In my head, I know good techniques for debugging, but time after time, my heart leads me astray.\n",
      "\n",
      "I know:\n",
      "\n",
      "1. isolate the bug to the simplest test case I can find\n",
      "2. when doing something new, make minor and incremental changes\n",
      "3. step through my code slowly\n",
      "\n",
      "and most importantly:\n",
      "\n",
      "**don't just flail around making random changes based on my random hypotheses about what the problem is**\n",
      "\n",
      "But for some reason, I always think \"this time is different\".  I know what my mistake must be, and I'll just change it and re-run.  No, that's not it, let me change something else.  I can make big changes to my algorithm at the same time I massively scale up and change the input source.\n",
      "\n",
      "These are all lies."
     ]
    }
   ],
   "metadata": {}
  }
 ]
}